{
 "cells": [
  {
   "cell_type": "code",
   "execution_count": 15,
   "metadata": {
    "collapsed": true
   },
   "outputs": [],
   "source": [
    "import pandas as pd\n",
    "import numpy as np\n",
    "from rdflib import ConjunctiveGraph, URIRef, BNode, RDF, Literal\n",
    "from rdflib.namespace import XSD\n",
    "import validators"
   ]
  },
  {
   "cell_type": "code",
   "execution_count": 16,
   "outputs": [],
   "source": [
    "def isfloat(num):\n",
    "    try:\n",
    "        float(num)\n",
    "        return True\n",
    "    except ValueError:\n",
    "        return False\n"
   ],
   "metadata": {
    "collapsed": false
   }
  },
  {
   "cell_type": "code",
   "execution_count": 17,
   "outputs": [],
   "source": [
    "df_regions = pd.read_csv(\"./datasets/wineRegionGraph.csv\")"
   ],
   "metadata": {
    "collapsed": false
   }
  },
  {
   "cell_type": "code",
   "execution_count": 18,
   "outputs": [
    {
     "data": {
      "text/plain": "                                             subject  \\\n0              https://w3id.org/winecatalogue#Bullas   \n1            https://w3id.org/winecatalogue#Alicante   \n2  https://w3id.org/winecatalogue#Tacoronte_Acentejo   \n3              https://w3id.org/winecatalogue#Alella   \n4  https://w3id.org/winecatalogue#Valle_de_la_Oro...   \n5          https://w3id.org/winecatalogue#Terra_Alta   \n6             https://w3id.org/winecatalogue#Almansa   \n7             https://w3id.org/winecatalogue#Priorat   \n8            https://w3id.org/winecatalogue#La_Palma   \n9            https://w3id.org/winecatalogue#Montsant   \n\n                                         predicate  \\\n0      https://w3id.org/winecatalogue#wineProduced   \n1           http://dbpedia.org/ontology/wikiPageID   \n2           http://dbpedia.org/ontology/wikiPageID   \n3     http://www.w3.org/2003/01/geo/wgs84_pos#long   \n4  http://www.w3.org/1999/02/22-rdf-syntax-ns#type   \n5                 http://dbpedia.org/property/year   \n6           http://dbpedia.org/ontology/wikiPageID   \n7         http://dbpedia.org/property/officialName   \n8  http://www.w3.org/1999/02/22-rdf-syntax-ns#type   \n9                https://w3id.org/winecatalogue#id   \n\n                                              object  \n0                                              17623  \n1                                           11882604  \n2                                           14227564  \n3                                            2.29583  \n4    http://dbpedia.org/resource/Category:WineRegion  \n5                                               1972  \n6                                           11466715  \n7  Denominació d'Origen Qualificada Priorat / Den...  \n8    http://dbpedia.org/resource/Category:WineRegion  \n9            http://dbpedia.org/resource/Montsant_DO  ",
      "text/html": "<div>\n<style scoped>\n    .dataframe tbody tr th:only-of-type {\n        vertical-align: middle;\n    }\n\n    .dataframe tbody tr th {\n        vertical-align: top;\n    }\n\n    .dataframe thead th {\n        text-align: right;\n    }\n</style>\n<table border=\"1\" class=\"dataframe\">\n  <thead>\n    <tr style=\"text-align: right;\">\n      <th></th>\n      <th>subject</th>\n      <th>predicate</th>\n      <th>object</th>\n    </tr>\n  </thead>\n  <tbody>\n    <tr>\n      <th>0</th>\n      <td>https://w3id.org/winecatalogue#Bullas</td>\n      <td>https://w3id.org/winecatalogue#wineProduced</td>\n      <td>17623</td>\n    </tr>\n    <tr>\n      <th>1</th>\n      <td>https://w3id.org/winecatalogue#Alicante</td>\n      <td>http://dbpedia.org/ontology/wikiPageID</td>\n      <td>11882604</td>\n    </tr>\n    <tr>\n      <th>2</th>\n      <td>https://w3id.org/winecatalogue#Tacoronte_Acentejo</td>\n      <td>http://dbpedia.org/ontology/wikiPageID</td>\n      <td>14227564</td>\n    </tr>\n    <tr>\n      <th>3</th>\n      <td>https://w3id.org/winecatalogue#Alella</td>\n      <td>http://www.w3.org/2003/01/geo/wgs84_pos#long</td>\n      <td>2.29583</td>\n    </tr>\n    <tr>\n      <th>4</th>\n      <td>https://w3id.org/winecatalogue#Valle_de_la_Oro...</td>\n      <td>http://www.w3.org/1999/02/22-rdf-syntax-ns#type</td>\n      <td>http://dbpedia.org/resource/Category:WineRegion</td>\n    </tr>\n    <tr>\n      <th>5</th>\n      <td>https://w3id.org/winecatalogue#Terra_Alta</td>\n      <td>http://dbpedia.org/property/year</td>\n      <td>1972</td>\n    </tr>\n    <tr>\n      <th>6</th>\n      <td>https://w3id.org/winecatalogue#Almansa</td>\n      <td>http://dbpedia.org/ontology/wikiPageID</td>\n      <td>11466715</td>\n    </tr>\n    <tr>\n      <th>7</th>\n      <td>https://w3id.org/winecatalogue#Priorat</td>\n      <td>http://dbpedia.org/property/officialName</td>\n      <td>Denominació d'Origen Qualificada Priorat / Den...</td>\n    </tr>\n    <tr>\n      <th>8</th>\n      <td>https://w3id.org/winecatalogue#La_Palma</td>\n      <td>http://www.w3.org/1999/02/22-rdf-syntax-ns#type</td>\n      <td>http://dbpedia.org/resource/Category:WineRegion</td>\n    </tr>\n    <tr>\n      <th>9</th>\n      <td>https://w3id.org/winecatalogue#Montsant</td>\n      <td>https://w3id.org/winecatalogue#id</td>\n      <td>http://dbpedia.org/resource/Montsant_DO</td>\n    </tr>\n  </tbody>\n</table>\n</div>"
     },
     "execution_count": 18,
     "metadata": {},
     "output_type": "execute_result"
    }
   ],
   "source": [
    "df_regions.head(10)"
   ],
   "metadata": {
    "collapsed": false
   }
  },
  {
   "cell_type": "code",
   "execution_count": 19,
   "outputs": [],
   "source": [
    "BASE_URI = \"https://w3id.org/winecatalogue#\"\n",
    "g = ConjunctiveGraph()\n",
    "graph = URIRef(BASE_URI)\n",
    "\n",
    "for index, row in df_regions.iterrows():\n",
    "    if (validators.url(row['object'])):\n",
    "        if (row['predicate'] == 'http://www.w3.org/1999/02/22-rdf-syntax-ns#type'):\n",
    "            g.add((URIRef(row['subject']), URIRef(row['predicate']), URIRef(row['object']), graph))\n",
    "        else:\n",
    "            g.add((URIRef(row['subject']), URIRef(row['predicate']), Literal(row['object'], datatype=XSD.anyURI), graph))\n",
    "    else:\n",
    "        if row['object'].isdigit():\n",
    "            g.add((URIRef(row['subject']), URIRef(row['predicate']), Literal(row['object'], datatype=XSD.integer), graph))\n",
    "        elif isfloat(row['object']):\n",
    "            g.add((URIRef(row['subject']), URIRef(row['predicate']), Literal(row['object'], datatype=XSD.float), graph))\n",
    "        else:\n",
    "            g.add((URIRef(row['subject']), URIRef(row['predicate']), Literal(row['object']), graph))"
   ],
   "metadata": {
    "collapsed": false
   }
  },
  {
   "cell_type": "code",
   "execution_count": 20,
   "outputs": [],
   "source": [
    "df_wines = pd.read_csv(\"./datasets/wines_SPA.csv\")"
   ],
   "metadata": {
    "collapsed": false
   }
  },
  {
   "cell_type": "code",
   "execution_count": 21,
   "outputs": [
    {
     "data": {
      "text/plain": "(7500, 11)"
     },
     "execution_count": 21,
     "metadata": {},
     "output_type": "execute_result"
    }
   ],
   "source": [
    "df_wines.shape"
   ],
   "metadata": {
    "collapsed": false
   }
  },
  {
   "cell_type": "code",
   "execution_count": 22,
   "outputs": [],
   "source": [
    "df_wines.fillna(-1, inplace=True)\n",
    "df_wines= df_wines.drop_duplicates(subset=['winery', 'wine', 'year', 'price'], keep='first')"
   ],
   "metadata": {
    "collapsed": false
   }
  },
  {
   "cell_type": "code",
   "execution_count": 23,
   "outputs": [
    {
     "data": {
      "text/plain": "                    winery             wine  year  rating  num_reviews  \\\n0            Teso La Monja            Tinto  2013     4.9           58   \n1                   Artadi    Vina El Pison  2018     4.9           31   \n2             Vega Sicilia            Unico  2009     4.8         1793   \n3             Vega Sicilia            Unico  1999     4.8         1705   \n4             Vega Sicilia            Unico  1996     4.8         1309   \n...                    ...              ...   ...     ...          ...   \n2020  Conreria d'Scala Dei    Les Brugueres  2018     4.2          390   \n2021           Mustiguillo  Finca Terrerazo  2017     4.2          390   \n2022           Matarromera     Gran Reserva  2011     4.2          389   \n2023              Sei Solo         Preludio  2016     4.2          388   \n2024    Vinedos de Paganos       El Puntido  2005     4.2          384   \n\n     country            region   price                  type  body  acidity  \n0     Espana              Toro  995.00              Toro Red   5.0      3.0  \n1     Espana    Vino de Espana  313.50           Tempranillo   4.0      2.0  \n2     Espana  Ribera del Duero  324.95  Ribera Del Duero Red   5.0      3.0  \n3     Espana  Ribera del Duero  692.96  Ribera Del Duero Red   5.0      3.0  \n4     Espana  Ribera del Duero  778.06  Ribera Del Duero Red   5.0      3.0  \n...      ...               ...     ...                   ...   ...      ...  \n2020  Espana          Priorato   16.76           Priorat Red  -1.0     -1.0  \n2021  Espana      El Terrerazo   24.45                   Red  -1.0     -1.0  \n2022  Espana  Ribera del Duero   64.50  Ribera Del Duero Red  -1.0     -1.0  \n2023  Espana  Ribera del Duero   31.63  Ribera Del Duero Red  -1.0     -1.0  \n2024  Espana             Rioja   73.00             Rioja Red  -1.0     -1.0  \n\n[2024 rows x 11 columns]",
      "text/html": "<div>\n<style scoped>\n    .dataframe tbody tr th:only-of-type {\n        vertical-align: middle;\n    }\n\n    .dataframe tbody tr th {\n        vertical-align: top;\n    }\n\n    .dataframe thead th {\n        text-align: right;\n    }\n</style>\n<table border=\"1\" class=\"dataframe\">\n  <thead>\n    <tr style=\"text-align: right;\">\n      <th></th>\n      <th>winery</th>\n      <th>wine</th>\n      <th>year</th>\n      <th>rating</th>\n      <th>num_reviews</th>\n      <th>country</th>\n      <th>region</th>\n      <th>price</th>\n      <th>type</th>\n      <th>body</th>\n      <th>acidity</th>\n    </tr>\n  </thead>\n  <tbody>\n    <tr>\n      <th>0</th>\n      <td>Teso La Monja</td>\n      <td>Tinto</td>\n      <td>2013</td>\n      <td>4.9</td>\n      <td>58</td>\n      <td>Espana</td>\n      <td>Toro</td>\n      <td>995.00</td>\n      <td>Toro Red</td>\n      <td>5.0</td>\n      <td>3.0</td>\n    </tr>\n    <tr>\n      <th>1</th>\n      <td>Artadi</td>\n      <td>Vina El Pison</td>\n      <td>2018</td>\n      <td>4.9</td>\n      <td>31</td>\n      <td>Espana</td>\n      <td>Vino de Espana</td>\n      <td>313.50</td>\n      <td>Tempranillo</td>\n      <td>4.0</td>\n      <td>2.0</td>\n    </tr>\n    <tr>\n      <th>2</th>\n      <td>Vega Sicilia</td>\n      <td>Unico</td>\n      <td>2009</td>\n      <td>4.8</td>\n      <td>1793</td>\n      <td>Espana</td>\n      <td>Ribera del Duero</td>\n      <td>324.95</td>\n      <td>Ribera Del Duero Red</td>\n      <td>5.0</td>\n      <td>3.0</td>\n    </tr>\n    <tr>\n      <th>3</th>\n      <td>Vega Sicilia</td>\n      <td>Unico</td>\n      <td>1999</td>\n      <td>4.8</td>\n      <td>1705</td>\n      <td>Espana</td>\n      <td>Ribera del Duero</td>\n      <td>692.96</td>\n      <td>Ribera Del Duero Red</td>\n      <td>5.0</td>\n      <td>3.0</td>\n    </tr>\n    <tr>\n      <th>4</th>\n      <td>Vega Sicilia</td>\n      <td>Unico</td>\n      <td>1996</td>\n      <td>4.8</td>\n      <td>1309</td>\n      <td>Espana</td>\n      <td>Ribera del Duero</td>\n      <td>778.06</td>\n      <td>Ribera Del Duero Red</td>\n      <td>5.0</td>\n      <td>3.0</td>\n    </tr>\n    <tr>\n      <th>...</th>\n      <td>...</td>\n      <td>...</td>\n      <td>...</td>\n      <td>...</td>\n      <td>...</td>\n      <td>...</td>\n      <td>...</td>\n      <td>...</td>\n      <td>...</td>\n      <td>...</td>\n      <td>...</td>\n    </tr>\n    <tr>\n      <th>2020</th>\n      <td>Conreria d'Scala Dei</td>\n      <td>Les Brugueres</td>\n      <td>2018</td>\n      <td>4.2</td>\n      <td>390</td>\n      <td>Espana</td>\n      <td>Priorato</td>\n      <td>16.76</td>\n      <td>Priorat Red</td>\n      <td>-1.0</td>\n      <td>-1.0</td>\n    </tr>\n    <tr>\n      <th>2021</th>\n      <td>Mustiguillo</td>\n      <td>Finca Terrerazo</td>\n      <td>2017</td>\n      <td>4.2</td>\n      <td>390</td>\n      <td>Espana</td>\n      <td>El Terrerazo</td>\n      <td>24.45</td>\n      <td>Red</td>\n      <td>-1.0</td>\n      <td>-1.0</td>\n    </tr>\n    <tr>\n      <th>2022</th>\n      <td>Matarromera</td>\n      <td>Gran Reserva</td>\n      <td>2011</td>\n      <td>4.2</td>\n      <td>389</td>\n      <td>Espana</td>\n      <td>Ribera del Duero</td>\n      <td>64.50</td>\n      <td>Ribera Del Duero Red</td>\n      <td>-1.0</td>\n      <td>-1.0</td>\n    </tr>\n    <tr>\n      <th>2023</th>\n      <td>Sei Solo</td>\n      <td>Preludio</td>\n      <td>2016</td>\n      <td>4.2</td>\n      <td>388</td>\n      <td>Espana</td>\n      <td>Ribera del Duero</td>\n      <td>31.63</td>\n      <td>Ribera Del Duero Red</td>\n      <td>-1.0</td>\n      <td>-1.0</td>\n    </tr>\n    <tr>\n      <th>2024</th>\n      <td>Vinedos de Paganos</td>\n      <td>El Puntido</td>\n      <td>2005</td>\n      <td>4.2</td>\n      <td>384</td>\n      <td>Espana</td>\n      <td>Rioja</td>\n      <td>73.00</td>\n      <td>Rioja Red</td>\n      <td>-1.0</td>\n      <td>-1.0</td>\n    </tr>\n  </tbody>\n</table>\n<p>2024 rows × 11 columns</p>\n</div>"
     },
     "execution_count": 23,
     "metadata": {},
     "output_type": "execute_result"
    }
   ],
   "source": [
    "df_wines"
   ],
   "metadata": {
    "collapsed": false
   }
  },
  {
   "cell_type": "code",
   "execution_count": 24,
   "outputs": [
    {
     "data": {
      "text/plain": "<Graph identifier=N5080e70b93504f6eb86bb2b452146293 (<class 'rdflib.graph.ConjunctiveGraph'>)>"
     },
     "execution_count": 24,
     "metadata": {},
     "output_type": "execute_result"
    }
   ],
   "source": [
    "graph = URIRef(BASE_URI)\n",
    "for index, row in df_wines.iterrows():\n",
    "    # Maping Wineries\n",
    "    g.add((URIRef(BASE_URI+str(row['winery']).replace(' ','_')), RDF.type, URIRef(\"http://schema.org/Winery\"), graph))\n",
    "    g.add((URIRef(BASE_URI+str(row['winery']).replace(' ','_')), URIRef(BASE_URI+'hasName'), Literal(row['winery'], datatype=XSD.string), graph))\n",
    "\n",
    "    # Mapping Wine - Wine Name\n",
    "    g.add((URIRef(BASE_URI+str(row['wine']).replace(' ','_')+str(row['year'])), RDF.type, URIRef(\"https://w3id.org/winecatalogue#Wine\"), graph))\n",
    "    g.add((URIRef(BASE_URI+str(row['wine']).replace(' ','_')+str(row['year'])),\n",
    "           URIRef(BASE_URI+'hasName'),\n",
    "           Literal(row['wine'],datatype=XSD.string), graph))\n",
    "    if row['year'] != 'N.V.' and row['year'] != 'nan':\n",
    "        g.add((URIRef(BASE_URI+str(row['wine']).replace(' ','_')+str(row['year'])), URIRef('http://dbpedia.org/property/year'), Literal(row['year'], datatype=XSD.integer), graph))\n",
    "\n",
    "    g.add((URIRef(BASE_URI+str(row['wine']).replace(' ','_')+str(row['year'])), URIRef(BASE_URI+'rating'), Literal(row['rating'], datatype=XSD.float), graph))\n",
    "    g.add((URIRef(BASE_URI+str(row['wine']).replace(' ','_')+str(row['year'])), URIRef(BASE_URI+'numReviews'), Literal(row['num_reviews'], datatype=XSD.integer), graph))\n",
    "    g.add((URIRef(BASE_URI+str(row['wine']).replace(' ','_')+str(row['year'])), URIRef(BASE_URI+'bodyScore'), Literal(row['body'], datatype=XSD.float), graph))\n",
    "    g.add((URIRef(BASE_URI+str(row['wine']).replace(' ','_')+str(row['year'])), URIRef(BASE_URI+'acidity'), Literal(row['acidity'], datatype=XSD.float), graph))\n",
    "\n",
    "\n",
    "    #Mapping with Country\n",
    "    g.add((URIRef(BASE_URI+str(row['wine']).replace(' ','_')+str(row['year'])), URIRef('http://dbpedia.org/ontology/location'), URIRef(BASE_URI+str(row['country']).replace(' ','_')), graph))\n",
    "    g.add((URIRef(BASE_URI+str(row['country']).replace(' ','_')), RDF.type, URIRef(BASE_URI+'Country'), graph))\n",
    "    g.add((URIRef(BASE_URI+str(row['country']).replace(' ','_')), URIRef(BASE_URI+'hasName'), Literal(row['country'], datatype=XSD.string), graph))\n",
    "\n",
    "    #Mapping with Region\n",
    "    g.add((URIRef(BASE_URI+str(row['wine']).replace(' ','_')+str(row['year'])), URIRef(BASE_URI+'hasRegion'), URIRef(BASE_URI+str(row['region']).replace(' ','_')), graph))\n",
    "\n",
    "    ## Mapping price\n",
    "    price_Bn = BNode()\n",
    "    g.add((URIRef(BASE_URI+str(row['wine']).replace(' ','_')+str(row['year'])), URIRef(BASE_URI+'hasPrice'),\n",
    "           price_Bn, graph))\n",
    "    g.add((price_Bn,\n",
    "           URIRef('https://saref.etsi.org/core/unitOfMeasure'),\n",
    "           URIRef('https://saref.etsi.org/core/euro'), graph))\n",
    "    g.add((price_Bn,\n",
    "           URIRef('https://w3id.org/winecatalogue#hasValue'),\n",
    "           Literal(row['price'], datatype=XSD.float), graph))\n",
    "\n",
    "    #Mapping with the type\n",
    "    g.add((\n",
    "        URIRef(BASE_URI+str(row['wine']).replace(' ','_')+str(row['year'])),\n",
    "        URIRef(BASE_URI+'hasWineType'),\n",
    "        URIRef(BASE_URI+str(row['type']).replace(' ','_')), graph))\n",
    "    g.add((URIRef(BASE_URI+str(row['type']).replace(' ','_')), URIRef(BASE_URI+'hasName'), Literal(row['type'], datatype=XSD.string), graph))\n",
    "\n",
    "g.serialize('wines_regions.rdf', format='xml', base= 'https://w3id.org/winecatalogue')"
   ],
   "metadata": {
    "collapsed": false
   }
  },
  {
   "cell_type": "code",
   "execution_count": 24,
   "outputs": [],
   "source": [],
   "metadata": {
    "collapsed": false
   }
  }
 ],
 "metadata": {
  "kernelspec": {
   "display_name": "Python 3",
   "language": "python",
   "name": "python3"
  },
  "language_info": {
   "codemirror_mode": {
    "name": "ipython",
    "version": 2
   },
   "file_extension": ".py",
   "mimetype": "text/x-python",
   "name": "python",
   "nbconvert_exporter": "python",
   "pygments_lexer": "ipython2",
   "version": "2.7.6"
  }
 },
 "nbformat": 4,
 "nbformat_minor": 0
}
